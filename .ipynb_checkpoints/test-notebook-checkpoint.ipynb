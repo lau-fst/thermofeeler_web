{
 "cells": [
  {
   "cell_type": "code",
   "execution_count": 2,
   "id": "88543ec4",
   "metadata": {},
   "outputs": [],
   "source": [
    "import requests\n",
    "import matplotlib.pyplot as plt\n",
    "import re\n",
    "from wordcloud import WordCloud\n",
    "from nltk.tokenize import word_tokenize"
   ]
  },
  {
   "cell_type": "code",
   "execution_count": 3,
   "id": "30594d11",
   "metadata": {},
   "outputs": [],
   "source": [
    "query='covid'\n",
    "\n",
    "url = f'https://thermofeeler-6hn6fqkota-uc.a.run.app/predict_query?query={query}&max_results=10'\n",
    "response = requests.get(url).json()"
   ]
  },
  {
   "cell_type": "code",
   "execution_count": 4,
   "id": "c83a5163",
   "metadata": {},
   "outputs": [
    {
     "data": {
      "image/png": "[encoded data removed]",
      "text/plain": [
       "<Figure size 432x288 with 1 Axes>"
      ]
     },
     "metadata": {},
     "output_type": "display_data"
    }
   ],
   "source": [
    "fig, ax = plt.subplots()\n",
    "ax.pie([response[1]['negative total'],response[1]['positive total'],response[1]['neutral total']],\n",
    "        explode=[0.05,0.05,0.05],\n",
    "        labels=['Negativo','Positivo','Neutro'],\n",
    "        colors=['darkred','lightgreen','lightgray'],\n",
    "        autopct='%1.1f%%',\n",
    "        shadow=True,\n",
    "        textprops={'fontsize': 14})\n",
    "plt.show();"
   ]
  },
  {
   "cell_type": "code",
   "execution_count": 5,
   "id": "a96b4bd7",
   "metadata": {},
   "outputs": [],
   "source": [
    "def preproc_func(tweet):\n",
    "    '''Does the preprocessing of the tweets'''\n",
    "\n",
    "    # stopwords: remove articles, prepositions, conjunctions etc\n",
    "    stopwords=['a','te','tu','tua','tuas','tém','um','uma','você','vocês','vos','à','às','ao','aos',\n",
    "          'aquela','aquelas','aquele','aqueles','aquilo','as','até','com','como','da','das','de',\n",
    "          'dela','delas','dele','deles','depois','do','dos','e','ela','elas','ele','eles','em',\n",
    "          'entre','essa','essas','esse','esses','esta','eu','foi','fomos','for','fora','foram',\n",
    "          'forem','formos','fosse','fossem','fui','fôramos','fôssemos', 'isso','isto','já','lhe',\n",
    "          'lhes','me','mesmo','meu','meus','minha','minhas','muito','na','nas','no','nos','nossa',\n",
    "          'nossas','nosso','nossos','num','numa','nós','o','os','para','pela','pelas','pelo','pelos',\n",
    "          'por','qual','quando','que','quem','se','seja','sejam','sejamos','sem','serei','seremos',\n",
    "          'seria','seriam','será','serão','seríamos','seu','seus','somos','sou','sua','suas','são',\n",
    "          'só','também','ah','q','g','oh','eh','vc','tbm','também','tambem','voceh','você','voce']\n",
    "\n",
    "    tweet = tweet.lower() # lowercase\n",
    "\n",
    "    tweet=re.sub('https?://[A-Za-z0-9./]+','',tweet) # remove links que começam com https?://\n",
    "    tweet=re.sub('https://[A-Za-z0-9./]+','',tweet) # remove links que começam com https://\n",
    "    tweet=re.sub('http://[A-Za-z0-9./]+','',tweet) # remove links que começam com http://\n",
    "\n",
    "    tweet = re.sub(r'@[A-Za-z0-9_]+','',tweet) # remove @mentions\n",
    "    tweet = re.sub(r'#','',tweet) # remove #hashtags\n",
    "\n",
    "    tweet = re.sub(r'[^\\w\\s]','',tweet) # remove remove punctuation\n",
    "    tweet = re.sub(r'[0-9]','',tweet) # remove numbers\n",
    "\n",
    "    word_tokens=word_tokenize(tweet) # tokenize\n",
    "\n",
    "    filtered_tweet = [w for w in word_tokens if not w in stopwords] # remove stopwords\n",
    "\n",
    "    return filtered_tweet"
   ]
  },
  {
   "cell_type": "code",
   "execution_count": 6,
   "id": "76e8d2ba",
   "metadata": {},
   "outputs": [],
   "source": [
    "preproc_tweets=[]\n",
    "for tweet in response[0]:\n",
    "    preproc_tweets.append(preproc_func(tweet))"
   ]
  },
  {
   "cell_type": "code",
   "execution_count": 7,
   "id": "0501a55e",
   "metadata": {},
   "outputs": [],
   "source": [
    "string=' '.join(preproc_tweets[0])"
   ]
  },
  {
   "cell_type": "code",
   "execution_count": null,
   "id": "86940d73",
   "metadata": {},
   "outputs": [],
   "source": []
  },
  {
   "cell_type": "code",
   "execution_count": null,
   "id": "5b4a1b11",
   "metadata": {},
   "outputs": [],
   "source": [
    "string='testando o novo generate testando covid covid covid covid covid covid covid covid covid covid covid '"
   ]
  },
  {
   "cell_type": "code",
   "execution_count": null,
   "id": "9edc84a9",
   "metadata": {},
   "outputs": [],
   "source": []
  },
  {
   "cell_type": "code",
   "execution_count": null,
   "id": "c9749118",
   "metadata": {},
   "outputs": [],
   "source": []
  },
  {
   "cell_type": "code",
   "execution_count": null,
   "id": "52d51984",
   "metadata": {},
   "outputs": [],
   "source": [
    "unique_string=''\n",
    "for tweet in preproc_tweets:\n",
    "    unique_string.join(preproc_tweets).join(' ')\n",
    "\n",
    "fig, ax = plt.subplots()\n",
    "word_cloud = WordCloud(background_color = 'white')\n",
    "word_cloud.generate(unique_string)\n",
    "\n",
    "plt.imshow(word_cloud, interpolation='bilinear')\n",
    "plt.axis(\"off\")\n",
    "\n",
    "st.pyplot(fig)\n",
    "\n",
    "st.markdown(unique_string)\n",
    "\n",
    "st.markdown(response[0])"
   ]
  }
 ],
 "metadata": {
  "kernelspec": {
   "display_name": "Python 3 (ipykernel)",
   "language": "python",
   "name": "python3"
  },
  "language_info": {
   "codemirror_mode": {
    "name": "ipython",
    "version": 3
   },
   "file_extension": ".py",
   "mimetype": "text/x-python",
   "name": "python",
   "nbconvert_exporter": "python",
   "pygments_lexer": "ipython3",
   "version": "3.8.12"
  },
  "toc": {
   "base_numbering": 1,
   "nav_menu": {},
   "number_sections": true,
   "sideBar": true,
   "skip_h1_title": false,
   "title_cell": "Table of Contents",
   "title_sidebar": "Contents",
   "toc_cell": false,
   "toc_position": {},
   "toc_section_display": true,
   "toc_window_display": false
  }
 },
 "nbformat": 4,
 "nbformat_minor": 5
}
